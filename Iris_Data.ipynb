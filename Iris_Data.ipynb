{
  "nbformat": 4,
  "nbformat_minor": 0,
  "metadata": {
    "colab": {
      "name": "Iris Data.ipynb",
      "provenance": [],
      "authorship_tag": "ABX9TyMKJcsB9ZWXlDttNdgm7cZm",
      "include_colab_link": true
    },
    "kernelspec": {
      "name": "python3",
      "display_name": "Python 3"
    }
  },
  "cells": [
    {
      "cell_type": "markdown",
      "metadata": {
        "id": "view-in-github",
        "colab_type": "text"
      },
      "source": [
        "<a href=\"https://colab.research.google.com/github/BonomeD92/DS-Unit-1-Sprint-1-Data-Wrangling-and-Storytelling/blob/master/Iris_Data.ipynb\" target=\"_parent\"><img src=\"https://colab.research.google.com/assets/colab-badge.svg\" alt=\"Open In Colab\"/></a>"
      ]
    },
    {
      "cell_type": "code",
      "metadata": {
        "id": "AAlaml1s9ups",
        "colab_type": "code",
        "colab": {}
      },
      "source": [
        "flag_data_url = 'https://archive.ics.uci.edu/ml/machine-learning-databases/iris/iris.data'"
      ],
      "execution_count": null,
      "outputs": []
    }
  ]
}